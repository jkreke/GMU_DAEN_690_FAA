{
 "cells": [
  {
   "cell_type": "code",
   "execution_count": null,
   "metadata": {},
   "outputs": [],
   "source": [
    "import pandas as pd\n",
    "df = pd.read_csv('/Users/Char/Desktop/lasers.csv')\n",
    "df.head(n=5)"
   ]
  },
  {
   "cell_type": "code",
   "execution_count": null,
   "metadata": {},
   "outputs": [],
   "source": [
    "df.shape"
   ]
  },
  {
   "cell_type": "code",
   "execution_count": null,
   "metadata": {},
   "outputs": [],
   "source": [
    "import re"
   ]
  },
  {
   "cell_type": "code",
   "execution_count": null,
   "metadata": {},
   "outputs": [],
   "source": [
    "#drop/remove unnecessary columns: userID, legacyUser, status, limitedPage, limitedRecipients, files, -v, primaryCode\n",
    "#assuming it's ok to remove these, based on question for 4 Feb partner meeting\n",
    "\n",
    "df.drop(['userId', 'legacyUser', 'status', 'limitedPage', 'limitedRecipients', 'files', '__v', 'primaryCode'], \n",
    "        axis=1, inplace=True)"
   ]
  },
  {
   "cell_type": "code",
   "execution_count": null,
   "metadata": {},
   "outputs": [],
   "source": [
    "#rename columns to remove decimals\n",
    "df.rename(columns = { 'dest.city':'destCity', 'destNew.city':'destNewCity', 'origin.city':'originCity', \n",
    "                     'destNew.icao':'destNewIcao','destNew.faa':'destNewFaa', 'destNew.airportName':'destNewAirportName', \n",
    "                     'destNew.country':'destNewCountry', 'origin.icao':'originIcao', 'origin.faa':'originFaa', \n",
    "                     'origin.airportName':'originAirportName', 'origin.country':'originCountry','dest.icao':'destIcao', \n",
    "                     'dest.faa':'destFaa', 'dest.airportName':'destAirportName','dest.country':'destCountry', \n",
    "                     'operator.code':'operatorCode', 'operator.name':'operatorName', 'operator.country':'operatorCountry',\n",
    "                     'operator.telephony':'operatorTelephony',},inplace=True)"
   ]
  },
  {
   "cell_type": "code",
   "execution_count": null,
   "metadata": {},
   "outputs": [],
   "source": [
    "df.columns #column names"
   ]
  },
  {
   "cell_type": "code",
   "execution_count": null,
   "metadata": {},
   "outputs": [],
   "source": [
    "df.head()"
   ]
  },
  {
   "cell_type": "code",
   "execution_count": null,
   "metadata": {},
   "outputs": [],
   "source": []
  },
  {
   "cell_type": "code",
   "execution_count": null,
   "metadata": {},
   "outputs": [],
   "source": [
    "# Steps to filter out data from 2012 to present"
   ]
  },
  {
   "cell_type": "code",
   "execution_count": null,
   "metadata": {},
   "outputs": [],
   "source": [
    "# Convert dataframe date index to datetime index\n",
    "from datetime import datetime\n",
    "\n",
    "df['newdate'] = pd.to_datetime(df['date'])\n",
    "df = df.set_index('newdate')\n",
    "df.drop(['date'], axis=1, inplace=True)\n",
    "df.head()\n",
    "\n",
    "#source https://towardsdatascience.com/basic-time-series-manipulation-with-pandas-4432afee64ea"
   ]
  },
  {
   "cell_type": "code",
   "execution_count": null,
   "metadata": {},
   "outputs": [],
   "source": [
    "# Select just the dates that we want to keep\n",
    "df = df['2020-01-01':'2021-02-01']\n",
    "df.head()\n",
    "\n",
    "#My stuff below works for 2020-2021; it breaks when I add in 2019 or the whole file"
   ]
  },
  {
   "cell_type": "code",
   "execution_count": null,
   "metadata": {},
   "outputs": [],
   "source": [
    "# to convert timezones\n",
    "# real_t.tz_localize('UTC').tz_convert('US/Pacific')"
   ]
  },
  {
   "cell_type": "code",
   "execution_count": null,
   "metadata": {},
   "outputs": [],
   "source": []
  },
  {
   "cell_type": "code",
   "execution_count": null,
   "metadata": {},
   "outputs": [],
   "source": [
    "df.shape"
   ]
  },
  {
   "cell_type": "code",
   "execution_count": null,
   "metadata": {},
   "outputs": [],
   "source": [
    "#reset the index without removing default index\n",
    "\n",
    "df.reset_index(inplace = True)\n",
    "\n",
    "#source https://www.geeksforgeeks.org/reset-index-in-pandas-dataframe/"
   ]
  },
  {
   "cell_type": "code",
   "execution_count": null,
   "metadata": {},
   "outputs": [],
   "source": [
    "df.head()"
   ]
  },
  {
   "cell_type": "code",
   "execution_count": null,
   "metadata": {},
   "outputs": [],
   "source": [
    "#get data types\n",
    "df.dtypes"
   ]
  },
  {
   "cell_type": "code",
   "execution_count": null,
   "metadata": {},
   "outputs": [],
   "source": [
    "# Code to extract data from remarks"
   ]
  },
  {
   "cell_type": "code",
   "execution_count": null,
   "metadata": {},
   "outputs": [],
   "source": [
    "first_remarks = df.loc[0, \"remarks\"]\n",
    "print(first_remarks)"
   ]
  },
  {
   "cell_type": "code",
   "execution_count": null,
   "metadata": {},
   "outputs": [],
   "source": [
    "list_of_words = first_remarks.split() \n",
    "prev_word = list_of_words[list_of_words.index(\"feet\") - 1]\n",
    "print(prev_word)"
   ]
  },
  {
   "cell_type": "code",
   "execution_count": null,
   "metadata": {},
   "outputs": [],
   "source": [
    "#Get rid of commas - test on one line\n",
    "first_remarks = first_remarks.replace(',', '')"
   ]
  },
  {
   "cell_type": "code",
   "execution_count": null,
   "metadata": {},
   "outputs": [],
   "source": [
    "#change to lowercase  - test on one line\n",
    "first_remarks = first_remarks.lower()\n",
    "print(first_remarks)"
   ]
  },
  {
   "cell_type": "code",
   "execution_count": null,
   "metadata": {},
   "outputs": [],
   "source": [
    "#pull out just the first sentence\n",
    "\n",
    "text = first_remarks\n",
    "\n",
    "test1= ' '.join(re.split(r'(?<=[.:;])', text)[:1])\n",
    "print(test1)"
   ]
  },
  {
   "cell_type": "code",
   "execution_count": null,
   "metadata": {},
   "outputs": [],
   "source": [
    "#pull out just the first 2 sentences\n",
    "\n",
    "test2= ' '.join(re.split(r'(?<=[.:;])', text)[:2])\n",
    "print(test2)"
   ]
  },
  {
   "cell_type": "code",
   "execution_count": null,
   "metadata": {},
   "outputs": [],
   "source": [
    "#Get rid of commas\n",
    "df['remarks'] = df['remarks'].replace(',', '')"
   ]
  },
  {
   "cell_type": "code",
   "execution_count": null,
   "metadata": {},
   "outputs": [],
   "source": [
    "#change to lowercase \n",
    "df['remarks'] = df['remarks'].str.lower()\n",
    "\n",
    "#not sure that we need to do this, just keeping in for now"
   ]
  },
  {
   "cell_type": "code",
   "execution_count": null,
   "metadata": {},
   "outputs": [],
   "source": [
    "df.loc[0, \"remarks\"]"
   ]
  },
  {
   "cell_type": "code",
   "execution_count": null,
   "metadata": {},
   "outputs": [],
   "source": []
  },
  {
   "cell_type": "code",
   "execution_count": null,
   "metadata": {},
   "outputs": [],
   "source": [
    "df.head()"
   ]
  },
  {
   "cell_type": "code",
   "execution_count": null,
   "metadata": {},
   "outputs": [],
   "source": [
    "#Color of Lasers from Remarks\n",
    "color_list = ['white','green','blue','red','purple','bluegreen', 'blue-green', 'blue-purple']\n",
    "df['LaserColor'] = df['remarks'].str.findall(r'(?i)\\b(?:{})\\b'.format('|'.join(color_list))).apply(', '.join)\n",
    "\n",
    "#Source https://stackoverflow.com/questions/58956077/python-search-and-present-strings-within-a-column-in-dataframe-from-a-list\n"
   ]
  },
  {
   "cell_type": "code",
   "execution_count": null,
   "metadata": {},
   "outputs": [],
   "source": [
    "#Aircraft Heading\n",
    "heading = ['N bound','S bound','E bound','W bound', 'NE bound','NW bound','SE bound','SW bound','NNE bound', 'NNW bound','WNW bound','ENE bound','WSW bound','ESE bound','SSW bound','SSE bound']\n",
    "df['Heading'] = df['remarks'].str.findall(r'(?i)\\b(?:{})\\b'.format('|'.join(heading))).apply(', '.join)"
   ]
  },
  {
   "cell_type": "code",
   "execution_count": null,
   "metadata": {},
   "outputs": [],
   "source": [
    "#Injury reported\n",
    "injury = ['no injuries reported', 'no injury reported','headache','blind','visual','pain ']\n",
    "df['Injury'] = df['remarks'].str.findall(r'(?i)\\b(?:{})\\b'.format('|'.join(injury))).apply(', '.join)"
   ]
  },
  {
   "cell_type": "code",
   "execution_count": null,
   "metadata": {},
   "outputs": [],
   "source": [
    "altitude = ['feet', 'ft ']\n",
    "df['ALT2'] = df['remarks'].str.findall(r'(?i)\\b(?:{})\\b'.format('|'.join(altitude))).apply(', '.join)\n"
   ]
  },
  {
   "cell_type": "code",
   "execution_count": null,
   "metadata": {},
   "outputs": [],
   "source": [
    "print(first_remarks)"
   ]
  },
  {
   "cell_type": "code",
   "execution_count": null,
   "metadata": {},
   "outputs": [],
   "source": [
    "list_of_words = first_remarks.split() \n",
    "prev_word = list_of_words[list_of_words.index(\"feet\") - 1]\n",
    "print(prev_word)\n",
    "\n",
    "#This splits out the text to the words then pulls the word before feet; note you have to remove commas in the #\n",
    "#I haven't figure out out to get it to work for all the columns, just one line"
   ]
  },
  {
   "cell_type": "code",
   "execution_count": null,
   "metadata": {},
   "outputs": [],
   "source": [
    "df.head()"
   ]
  },
  {
   "cell_type": "code",
   "execution_count": null,
   "metadata": {},
   "outputs": [],
   "source": [
    "df.loc[0, \"remarks\"]"
   ]
  },
  {
   "cell_type": "code",
   "execution_count": null,
   "metadata": {},
   "outputs": [],
   "source": [
    "df.loc[0, \"Injury\"]"
   ]
  },
  {
   "cell_type": "code",
   "execution_count": null,
   "metadata": {},
   "outputs": [],
   "source": []
  }
 ],
 "metadata": {
  "kernelspec": {
   "display_name": "Python 3",
   "language": "python",
   "name": "python3"
  },
  "language_info": {
   "codemirror_mode": {
    "name": "ipython",
    "version": 3
   },
   "file_extension": ".py",
   "mimetype": "text/x-python",
   "name": "python",
   "nbconvert_exporter": "python",
   "pygments_lexer": "ipython3",
   "version": "3.7.4"
  }
 },
 "nbformat": 4,
 "nbformat_minor": 2
}
