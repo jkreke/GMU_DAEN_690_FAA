{
 "cells": [
  {
   "cell_type": "code",
   "execution_count": null,
   "metadata": {},
   "outputs": [],
   "source": [
    "\"\"\"\n",
    "Created on 15 March 2021\n",
    "author: cjburrage\n",
    "\n",
    "\"\"\""
   ]
  },
  {
   "cell_type": "code",
   "execution_count": null,
   "metadata": {},
   "outputs": [],
   "source": [
    "import pandas as pd"
   ]
  },
  {
   "cell_type": "code",
   "execution_count": null,
   "metadata": {},
   "outputs": [],
   "source": [
    "#load elevation file\n",
    "df = pd.read_csv('/Users/Char/Desktop/laser_combined.csv')\n",
    "df.head(n=5)"
   ]
  },
  {
   "cell_type": "code",
   "execution_count": null,
   "metadata": {},
   "outputs": [],
   "source": [
    "df.columns #column names"
   ]
  },
  {
   "cell_type": "code",
   "execution_count": null,
   "metadata": {},
   "outputs": [],
   "source": [
    "#drop columns we don't need\n",
    "df.drop(['date', 'remarks', 'com.pat', 'com.cnt', 'vectA.dir',  'vectB.dis', 'vectB.dir', 'vectB.ref',\n",
    "              'vectC.dis', 'vectC.dir', 'vectC.ref', 'vectD.dis', 'vectD.dir','vectD.ref', 'vectA.lat', 'vectA.lon', 'TZ',\n",
    "              'den', 'tz', 'pop', 'cou', 'lon', 'lat',   'day', 'wday', 'week', 'month', 'minute','hour', \n",
    "              'Loc.Date', 'Holidays' ], axis=1, inplace=True)"
   ]
  },
  {
   "cell_type": "code",
   "execution_count": null,
   "metadata": {},
   "outputs": [],
   "source": [
    "df.columns #column names"
   ]
  },
  {
   "cell_type": "code",
   "execution_count": null,
   "metadata": {},
   "outputs": [],
   "source": [
    "#check data types to make sure they're not string\n",
    "df.dtypes"
   ]
  },
  {
   "cell_type": "code",
   "execution_count": null,
   "metadata": {},
   "outputs": [],
   "source": [
    "#create new column (duplicate of alt_feet)\n",
    "df['AGL_Adj_alt'] = df['alt_feet']\n",
    "df.dtypes"
   ]
  },
  {
   "cell_type": "code",
   "execution_count": null,
   "metadata": {},
   "outputs": [],
   "source": [
    "#check to make sure new column created\n",
    "df.head(5)"
   ]
  },
  {
   "cell_type": "code",
   "execution_count": 4,
   "metadata": {},
   "outputs": [],
   "source": [
    "#adjust altitude in the new column for any entries identified as AGL\n",
    "df.loc[(df['AGL_MSL'] == 'AGL'), 'AGL_Adj_alt'] = df['alt_feet'] + df['ele']"
   ]
  },
  {
   "cell_type": "code",
   "execution_count": 5,
   "metadata": {},
   "outputs": [],
   "source": [
    "#write output to new file\n",
    "df.to_csv('/Users/Char/Desktop/adj_alt_AGL_v3.csv', index = False)"
   ]
  },
  {
   "cell_type": "code",
   "execution_count": null,
   "metadata": {},
   "outputs": [],
   "source": []
  }
 ],
 "metadata": {
  "kernelspec": {
   "display_name": "Python 3",
   "language": "python",
   "name": "python3"
  },
  "language_info": {
   "codemirror_mode": {
    "name": "ipython",
    "version": 3
   },
   "file_extension": ".py",
   "mimetype": "text/x-python",
   "name": "python",
   "nbconvert_exporter": "python",
   "pygments_lexer": "ipython3",
   "version": "3.7.4"
  }
 },
 "nbformat": 4,
 "nbformat_minor": 2
}
