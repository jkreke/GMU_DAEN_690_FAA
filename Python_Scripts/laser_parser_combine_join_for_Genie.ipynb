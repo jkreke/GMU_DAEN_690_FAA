{
 "cells": [
  {
   "cell_type": "code",
   "execution_count": null,
   "metadata": {},
   "outputs": [],
   "source": [
    "\"\"\"\n",
    "Created on 1 March 2021\n",
    "author: cjburrage\n",
    "\n",
    "\"\"\""
   ]
  },
  {
   "cell_type": "code",
   "execution_count": null,
   "metadata": {},
   "outputs": [],
   "source": [
    "# Script to join files, drop columns and output to new file\n",
    "# I used this to create excel files to pull values for Genie model before full dataset was merged\n",
    "\n",
    "\n",
    "import pandas as pd\n",
    "\n",
    "#load parsed altitudes file\n",
    "df1 = pd.read_csv('/Users/Char/Desktop/laser_combined_31Mar.csv') #file 1\n",
    "df1.head(n=5)\n",
    "\n",
    "#Source:  https://jakevdp.github.io/PythonDataScienceHandbook/03.07-merge-and-join.html"
   ]
  },
  {
   "cell_type": "code",
   "execution_count": null,
   "metadata": {},
   "outputs": [],
   "source": [
    "#load  file\n",
    "df2 = pd.read_csv('/Users/Char/Desktop/laser_direction_degree_31Mar.csv') #file 2\n",
    "df2.head(n=5)"
   ]
  },
  {
   "cell_type": "code",
   "execution_count": null,
   "metadata": {},
   "outputs": [],
   "source": [
    "#join files\n",
    "\n",
    "df3 = pd.merge(df1, df2, left_on='X_id', right_on='X_id') #column name to join on\n",
    "df3.head(n=5)"
   ]
  },
  {
   "cell_type": "code",
   "execution_count": null,
   "metadata": {},
   "outputs": [],
   "source": [
    "del df1\n",
    "del df2"
   ]
  },
  {
   "cell_type": "code",
   "execution_count": null,
   "metadata": {},
   "outputs": [],
   "source": [
    "df3.columns #column names"
   ]
  },
  {
   "cell_type": "code",
   "execution_count": null,
   "metadata": {},
   "outputs": [],
   "source": [
    "#drop columns we don't need\n",
    "df3.drop(['remarks', 'com.pat', 'com.cnt', 'vectA.dis',\n",
    "       'vectA.dir', 'vectA.ref', 'vectB.dis', 'vectB.dir', 'vectB.ref',\n",
    "       'vectC.dis', 'vectC.dir', 'vectC.ref', 'vectD.dis', 'vectD.dir',\n",
    "       'vectD.ref', 'ncport', 'orig.faa', 'dest.faa', 'den', 'tz', 'pop',\n",
    "       'cou', 'cit', 'sta', 'ele', 'Holidays', 'ele.char', 'flightStatus',\n",
    "        'date_y'], \n",
    "        axis=1, inplace=True)"
   ]
  },
  {
   "cell_type": "code",
   "execution_count": null,
   "metadata": {},
   "outputs": [],
   "source": [
    "#check to make sure all columns dropped\n",
    "df3.columns #column names"
   ]
  },
  {
   "cell_type": "code",
   "execution_count": null,
   "metadata": {},
   "outputs": [],
   "source": [
    "df3.shape"
   ]
  },
  {
   "cell_type": "code",
   "execution_count": null,
   "metadata": {},
   "outputs": [],
   "source": [
    "df3.head()"
   ]
  },
  {
   "cell_type": "code",
   "execution_count": null,
   "metadata": {},
   "outputs": [],
   "source": [
    "#write output to file\n",
    "df3.to_csv('/Users/Char/Desktop/laser_combined_Genie3Apr.csv', index = False)"
   ]
  },
  {
   "cell_type": "code",
   "execution_count": null,
   "metadata": {},
   "outputs": [],
   "source": []
  },
  {
   "cell_type": "code",
   "execution_count": null,
   "metadata": {},
   "outputs": [],
   "source": []
  }
 ],
 "metadata": {
  "kernelspec": {
   "display_name": "Python 3",
   "language": "python",
   "name": "python3"
  },
  "language_info": {
   "codemirror_mode": {
    "name": "ipython",
    "version": 3
   },
   "file_extension": ".py",
   "mimetype": "text/x-python",
   "name": "python",
   "nbconvert_exporter": "python",
   "pygments_lexer": "ipython3",
   "version": "3.7.4"
  }
 },
 "nbformat": 4,
 "nbformat_minor": 2
}
